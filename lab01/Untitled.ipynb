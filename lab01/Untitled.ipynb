{
 "cells": [
  {
   "cell_type": "code",
   "execution_count": 1,
   "id": "fcf68af6",
   "metadata": {},
   "outputs": [],
   "source": [
    "import numpy as np\n",
    "import pandas as pd\n",
    "\n",
    "def generate_linear_regression_data(num_samples, slope, intercept, noise_stddev):\n",
    "    \"\"\"\n",
    "    Генерирует данные для задачи линейной регрессии.\n",
    "\n",
    "    Параметры:\n",
    "    - num_samples (int): Количество сэмплов (наблюдений) в данных.\n",
    "    - slope (float): Коэффициент наклона (вес) для линейной зависимости.\n",
    "    - intercept (float): Пересечение (смещение) линии.\n",
    "    - noise_stddev (float): Стандартное отклонение шума (гауссовского) для добавления в данные.\n",
    "\n",
    "    Возвращает:\n",
    "    - X (ndarray): Массив признаков (независимые переменные).\n",
    "    - y (ndarray): Массив целевых значений (зависимая переменная).\n",
    "    \"\"\"\n",
    "\n",
    "    # Генерируем num_samples случайных значений признаков (например, X).\n",
    "    X = np.random.rand(num_samples, 1) * 10\n",
    "\n",
    "    # Генерируем целевые значения (например, y) с линейной зависимостью и добавляем шум.\n",
    "    y = slope * X + intercept + np.random.normal(0, noise_stddev, size=(num_samples, 1))\n",
    "\n",
    "    return X, y\n",
    "\n",
    "\n",
    "def save_to_csv(X, y, filename):\n",
    "    \"\"\"\n",
    "    Сохраняет данные в CSV файл.\n",
    "\n",
    "    Параметры:\n",
    "    - X (ndarray): Массив признаков.\n",
    "    - y (ndarray): Массив целевых значений.\n",
    "    - filename (str): Имя файла для сохранения данных.\n",
    "    \"\"\"\n",
    "    data = np.concatenate((X, y), axis=1)\n",
    "    df = pd.DataFrame(data, columns=['X', 'y'])\n",
    "    df.to_csv(filename, index=False)\n",
    "\n",
    "# Пример использования:\n",
    "num_samples = 100\n",
    "slope = 5\n",
    "intercept = 1.0\n",
    "noise_stddev = 0.5\n",
    "\n",
    "X, y = generate_linear_regression_data(num_samples, slope, intercept, noise_stddev)\n",
    "save_to_csv(X, y, 'linear_regression_data.csv')"
   ]
  },
  {
   "cell_type": "code",
   "execution_count": 2,
   "id": "51031669",
   "metadata": {},
   "outputs": [],
   "source": [
    "import pandas as pd\n",
    "from sklearn.linear_model import LinearRegression\n",
    "from sklearn.model_selection import train_test_split\n",
    "from sklearn.metrics import mean_squared_error, r2_score\n",
    "\n",
    "# Загрузка данных из файла CSV\n",
    "data = pd.read_csv('linear_regression_data.csv')\n"
   ]
  },
  {
   "cell_type": "code",
   "execution_count": 3,
   "id": "42d9b2a4",
   "metadata": {},
   "outputs": [
    {
     "data": {
      "text/html": [
       "<div>\n",
       "<style scoped>\n",
       "    .dataframe tbody tr th:only-of-type {\n",
       "        vertical-align: middle;\n",
       "    }\n",
       "\n",
       "    .dataframe tbody tr th {\n",
       "        vertical-align: top;\n",
       "    }\n",
       "\n",
       "    .dataframe thead th {\n",
       "        text-align: right;\n",
       "    }\n",
       "</style>\n",
       "<table border=\"1\" class=\"dataframe\">\n",
       "  <thead>\n",
       "    <tr style=\"text-align: right;\">\n",
       "      <th></th>\n",
       "      <th>X</th>\n",
       "      <th>y</th>\n",
       "    </tr>\n",
       "  </thead>\n",
       "  <tbody>\n",
       "    <tr>\n",
       "      <th>0</th>\n",
       "      <td>1.282105</td>\n",
       "      <td>6.998091</td>\n",
       "    </tr>\n",
       "    <tr>\n",
       "      <th>1</th>\n",
       "      <td>3.094560</td>\n",
       "      <td>16.227899</td>\n",
       "    </tr>\n",
       "    <tr>\n",
       "      <th>2</th>\n",
       "      <td>8.414631</td>\n",
       "      <td>43.524080</td>\n",
       "    </tr>\n",
       "    <tr>\n",
       "      <th>3</th>\n",
       "      <td>7.652873</td>\n",
       "      <td>38.916365</td>\n",
       "    </tr>\n",
       "    <tr>\n",
       "      <th>4</th>\n",
       "      <td>7.733299</td>\n",
       "      <td>39.876589</td>\n",
       "    </tr>\n",
       "    <tr>\n",
       "      <th>...</th>\n",
       "      <td>...</td>\n",
       "      <td>...</td>\n",
       "    </tr>\n",
       "    <tr>\n",
       "      <th>95</th>\n",
       "      <td>0.618821</td>\n",
       "      <td>4.429551</td>\n",
       "    </tr>\n",
       "    <tr>\n",
       "      <th>96</th>\n",
       "      <td>8.981078</td>\n",
       "      <td>45.328621</td>\n",
       "    </tr>\n",
       "    <tr>\n",
       "      <th>97</th>\n",
       "      <td>1.978418</td>\n",
       "      <td>10.635270</td>\n",
       "    </tr>\n",
       "    <tr>\n",
       "      <th>98</th>\n",
       "      <td>1.206426</td>\n",
       "      <td>6.608494</td>\n",
       "    </tr>\n",
       "    <tr>\n",
       "      <th>99</th>\n",
       "      <td>7.728413</td>\n",
       "      <td>40.512136</td>\n",
       "    </tr>\n",
       "  </tbody>\n",
       "</table>\n",
       "<p>100 rows × 2 columns</p>\n",
       "</div>"
      ],
      "text/plain": [
       "           X          y\n",
       "0   1.282105   6.998091\n",
       "1   3.094560  16.227899\n",
       "2   8.414631  43.524080\n",
       "3   7.652873  38.916365\n",
       "4   7.733299  39.876589\n",
       "..       ...        ...\n",
       "95  0.618821   4.429551\n",
       "96  8.981078  45.328621\n",
       "97  1.978418  10.635270\n",
       "98  1.206426   6.608494\n",
       "99  7.728413  40.512136\n",
       "\n",
       "[100 rows x 2 columns]"
      ]
     },
     "execution_count": 3,
     "metadata": {},
     "output_type": "execute_result"
    }
   ],
   "source": [
    "data"
   ]
  },
  {
   "cell_type": "code",
   "execution_count": 4,
   "id": "c1b9dd95",
   "metadata": {},
   "outputs": [
    {
     "name": "stdout",
     "output_type": "stream",
     "text": [
      "Mean Squared Error: 0.16888041492759567\n",
      "R-squared (R2) Score: 0.9991849895608891\n"
     ]
    }
   ],
   "source": [
    "\n",
    "# Разделение данных на признаки (X) и целевые значения (y)\n",
    "X = data[['X']]\n",
    "y = data['y']\n",
    "\n",
    "# Разделение данных на тренировочный и тестовый наборы\n",
    "X_train, X_test, y_train, y_test = train_test_split(X, y, test_size=0.2, random_state=42)\n",
    "\n",
    "# Создание и обучение модели линейной регрессии\n",
    "model = LinearRegression()\n",
    "model.fit(X_train, y_train)\n",
    "\n",
    "# Предсказание на тестовом наборе\n",
    "y_pred = model.predict(X_test)\n",
    "\n",
    "# Оценка качества модели\n",
    "mse = mean_squared_error(y_test, y_pred)\n",
    "r2 = r2_score(y_test, y_pred)\n",
    "\n",
    "print(f'Mean Squared Error: {mse}')\n",
    "print(f'R-squared (R2) Score: {r2}')\n"
   ]
  },
  {
   "cell_type": "code",
   "execution_count": 6,
   "id": "3ad84161",
   "metadata": {},
   "outputs": [
    {
     "data": {
      "image/png": "[encoded data removed]",
      "text/plain": [
       "<Figure size 640x480 with 1 Axes>"
      ]
     },
     "metadata": {},
     "output_type": "display_data"
    }
   ],
   "source": [
    "import matplotlib.pyplot as plt\n",
    "\n",
    "\n",
    "# Нарисовать графики данных и итоговой функции регрессии\n",
    "plt.scatter(X, y, label='Данные', alpha=0.7)\n",
    "plt.plot(X_test, y_pred, color='red', linewidth=1, label='Регрессионная функция')\n",
    "plt.xlabel('Признак (X)')\n",
    "plt.ylabel('Целевое значение (y)')\n",
    "plt.legend()\n",
    "plt.title(f'Линейная регрессия\\nMSE: {mse:.2f}, R2: {r2:.2f}')\n",
    "plt.show()"
   ]
  },
  {
   "cell_type": "code",
   "execution_count": null,
   "id": "08880ba3",
   "metadata": {},
   "outputs": [],
   "source": []
  }
 ],
 "metadata": {
  "kernelspec": {
   "display_name": "Python 3 (ipykernel)",
   "language": "python",
   "name": "python3"
  },
  "language_info": {
   "codemirror_mode": {
    "name": "ipython",
    "version": 3
   },
   "file_extension": ".py",
   "mimetype": "text/x-python",
   "name": "python",
   "nbconvert_exporter": "python",
   "pygments_lexer": "ipython3",
   "version": "3.11.4"
  }
 },
 "nbformat": 4,
 "nbformat_minor": 5
}
